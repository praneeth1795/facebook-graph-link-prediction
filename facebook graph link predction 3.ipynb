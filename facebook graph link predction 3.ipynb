{
 "cells": [
  {
   "cell_type": "code",
   "execution_count": 1,
   "metadata": {},
   "outputs": [],
   "source": [
    "import warnings\n",
    "warnings.filterwarnings(\"ignore\")\n",
    "\n",
    "import numpy as np\n",
    "import pandas as pd\n",
    "import matplotlib.pyplot as plt\n",
    "import networkx as nx"
   ]
  },
  {
   "cell_type": "markdown",
   "metadata": {},
   "source": [
    "## following back"
   ]
  },
  {
   "cell_type": "code",
   "execution_count": 2,
   "metadata": {},
   "outputs": [],
   "source": [
    "def follows_back(a,b):\n",
    "    if train_graph.has_edge(b,a):\n",
    "        return 1\n",
    "    else:\n",
    "        return 0"
   ]
  },
  {
   "cell_type": "markdown",
   "metadata": {},
   "source": [
    "## new features"
   ]
  },
  {
   "cell_type": "code",
   "execution_count": 3,
   "metadata": {},
   "outputs": [],
   "source": [
    "train_graph=nx.read_edgelist('train_clean.csv',delimiter=',',create_using=nx.DiGraph(),nodetype=int)\n",
    "\n",
    "def new_features(df):\n",
    "    #calculating no of followers followees for source and destination\n",
    "    #calculating intersection of followers and followees for source and destination\n",
    "    num_followers_s=[]\n",
    "    num_followees_s=[]\n",
    "    num_followers_d=[]\n",
    "    num_followees_d=[]\n",
    "    inter_followers=[]\n",
    "    inter_followees=[]\n",
    "    for i,row in df.iterrows():\n",
    "        try:\n",
    "            s1=set(train_graph.predecessors(row['source_node']))\n",
    "            s2=set(train_graph.successors(row['source_node']))\n",
    "        except:\n",
    "            s1 = set()\n",
    "            s2 = set()\n",
    "        try:\n",
    "            d1=set(train_graph.predecessors(row['destination_node']))\n",
    "            d2=set(train_graph.successors(row['destination_node']))\n",
    "        except:\n",
    "            d1 = set()\n",
    "            d2 = set()\n",
    "        num_followers_s.append(len(s1))\n",
    "        num_followees_s.append(len(s2))\n",
    "\n",
    "        num_followers_d.append(len(d1))\n",
    "        num_followees_d.append(len(d2))\n",
    "\n",
    "        inter_followers.append(len(s1.intersection(d1)))\n",
    "        inter_followees.append(len(s2.intersection(d2)))\n",
    "    \n",
    "    return num_followers_s, num_followers_d, num_followees_s, num_followees_d, inter_followers, inter_followees"
   ]
  },
  {
   "cell_type": "markdown",
   "metadata": {},
   "source": [
    "## featurization"
   ]
  },
  {
   "cell_type": "code",
   "execution_count": 4,
   "metadata": {},
   "outputs": [
    {
     "data": {
      "text/html": [
       "<div>\n",
       "<style scoped>\n",
       "    .dataframe tbody tr th:only-of-type {\n",
       "        vertical-align: middle;\n",
       "    }\n",
       "\n",
       "    .dataframe tbody tr th {\n",
       "        vertical-align: top;\n",
       "    }\n",
       "\n",
       "    .dataframe thead th {\n",
       "        text-align: right;\n",
       "    }\n",
       "</style>\n",
       "<table border=\"1\" class=\"dataframe\">\n",
       "  <thead>\n",
       "    <tr style=\"text-align: right;\">\n",
       "      <th></th>\n",
       "      <th>source_node</th>\n",
       "      <th>destination_node</th>\n",
       "      <th>indicator_link</th>\n",
       "      <th>jaccard_followers</th>\n",
       "      <th>jaccard_followees</th>\n",
       "      <th>cosine_followers</th>\n",
       "      <th>cosine_followees</th>\n",
       "      <th>shortest_path_length</th>\n",
       "      <th>belongs_to_same_wcc</th>\n",
       "      <th>adar_index</th>\n",
       "      <th>page_rank_s</th>\n",
       "      <th>page_rank_d</th>\n",
       "      <th>katz_s</th>\n",
       "      <th>katz_d</th>\n",
       "      <th>hubs_s</th>\n",
       "      <th>hubs_d</th>\n",
       "      <th>authorities_s</th>\n",
       "      <th>authorities_d</th>\n",
       "    </tr>\n",
       "  </thead>\n",
       "  <tbody>\n",
       "    <tr>\n",
       "      <th>0</th>\n",
       "      <td>681210</td>\n",
       "      <td>578094</td>\n",
       "      <td>1.0</td>\n",
       "      <td>0</td>\n",
       "      <td>0.066667</td>\n",
       "      <td>0</td>\n",
       "      <td>0</td>\n",
       "      <td>2</td>\n",
       "      <td>1</td>\n",
       "      <td>1.047952</td>\n",
       "      <td>1.581296e-06</td>\n",
       "      <td>2.363783e-07</td>\n",
       "      <td>0.000761</td>\n",
       "      <td>0.000739</td>\n",
       "      <td>1.315252e-17</td>\n",
       "      <td>1.997768e-19</td>\n",
       "      <td>2.633042e-17</td>\n",
       "      <td>1.168928e-19</td>\n",
       "    </tr>\n",
       "    <tr>\n",
       "      <th>1</th>\n",
       "      <td>1015263</td>\n",
       "      <td>1228626</td>\n",
       "      <td>1.0</td>\n",
       "      <td>0</td>\n",
       "      <td>0.000000</td>\n",
       "      <td>0</td>\n",
       "      <td>0</td>\n",
       "      <td>3</td>\n",
       "      <td>1</td>\n",
       "      <td>0.000000</td>\n",
       "      <td>3.246765e-07</td>\n",
       "      <td>1.829068e-06</td>\n",
       "      <td>0.000735</td>\n",
       "      <td>0.000777</td>\n",
       "      <td>4.885614e-18</td>\n",
       "      <td>1.850402e-18</td>\n",
       "      <td>2.272397e-23</td>\n",
       "      <td>6.804640e-16</td>\n",
       "    </tr>\n",
       "    <tr>\n",
       "      <th>2</th>\n",
       "      <td>1259643</td>\n",
       "      <td>1022345</td>\n",
       "      <td>1.0</td>\n",
       "      <td>0</td>\n",
       "      <td>0.333333</td>\n",
       "      <td>0</td>\n",
       "      <td>0</td>\n",
       "      <td>2</td>\n",
       "      <td>1</td>\n",
       "      <td>2.940405</td>\n",
       "      <td>3.734641e-07</td>\n",
       "      <td>3.866163e-07</td>\n",
       "      <td>0.000751</td>\n",
       "      <td>0.000747</td>\n",
       "      <td>6.613329e-18</td>\n",
       "      <td>1.160654e-17</td>\n",
       "      <td>6.812246e-19</td>\n",
       "      <td>4.747461e-18</td>\n",
       "    </tr>\n",
       "    <tr>\n",
       "      <th>3</th>\n",
       "      <td>1570194</td>\n",
       "      <td>1742232</td>\n",
       "      <td>1.0</td>\n",
       "      <td>0</td>\n",
       "      <td>0.300000</td>\n",
       "      <td>0</td>\n",
       "      <td>0</td>\n",
       "      <td>2</td>\n",
       "      <td>1</td>\n",
       "      <td>3.763725</td>\n",
       "      <td>1.406635e-06</td>\n",
       "      <td>3.724099e-07</td>\n",
       "      <td>0.000757</td>\n",
       "      <td>0.000743</td>\n",
       "      <td>1.190506e-16</td>\n",
       "      <td>2.352525e-18</td>\n",
       "      <td>7.643179e-16</td>\n",
       "      <td>1.528837e-18</td>\n",
       "    </tr>\n",
       "    <tr>\n",
       "      <th>4</th>\n",
       "      <td>637374</td>\n",
       "      <td>1344</td>\n",
       "      <td>1.0</td>\n",
       "      <td>0</td>\n",
       "      <td>0.000000</td>\n",
       "      <td>0</td>\n",
       "      <td>0</td>\n",
       "      <td>5</td>\n",
       "      <td>1</td>\n",
       "      <td>0.000000</td>\n",
       "      <td>1.655650e-07</td>\n",
       "      <td>1.373647e-06</td>\n",
       "      <td>0.000731</td>\n",
       "      <td>0.000768</td>\n",
       "      <td>1.051982e-14</td>\n",
       "      <td>0.000000e+00</td>\n",
       "      <td>0.000000e+00</td>\n",
       "      <td>1.282472e-15</td>\n",
       "    </tr>\n",
       "  </tbody>\n",
       "</table>\n",
       "</div>"
      ],
      "text/plain": [
       "   source_node  destination_node  indicator_link  jaccard_followers  \\\n",
       "0       681210            578094             1.0                  0   \n",
       "1      1015263           1228626             1.0                  0   \n",
       "2      1259643           1022345             1.0                  0   \n",
       "3      1570194           1742232             1.0                  0   \n",
       "4       637374              1344             1.0                  0   \n",
       "\n",
       "   jaccard_followees  cosine_followers  cosine_followees  \\\n",
       "0           0.066667                 0                 0   \n",
       "1           0.000000                 0                 0   \n",
       "2           0.333333                 0                 0   \n",
       "3           0.300000                 0                 0   \n",
       "4           0.000000                 0                 0   \n",
       "\n",
       "   shortest_path_length  belongs_to_same_wcc  adar_index   page_rank_s  \\\n",
       "0                     2                    1    1.047952  1.581296e-06   \n",
       "1                     3                    1    0.000000  3.246765e-07   \n",
       "2                     2                    1    2.940405  3.734641e-07   \n",
       "3                     2                    1    3.763725  1.406635e-06   \n",
       "4                     5                    1    0.000000  1.655650e-07   \n",
       "\n",
       "    page_rank_d    katz_s    katz_d        hubs_s        hubs_d  \\\n",
       "0  2.363783e-07  0.000761  0.000739  1.315252e-17  1.997768e-19   \n",
       "1  1.829068e-06  0.000735  0.000777  4.885614e-18  1.850402e-18   \n",
       "2  3.866163e-07  0.000751  0.000747  6.613329e-18  1.160654e-17   \n",
       "3  3.724099e-07  0.000757  0.000743  1.190506e-16  2.352525e-18   \n",
       "4  1.373647e-06  0.000731  0.000768  1.051982e-14  0.000000e+00   \n",
       "\n",
       "   authorities_s  authorities_d  \n",
       "0   2.633042e-17   1.168928e-19  \n",
       "1   2.272397e-23   6.804640e-16  \n",
       "2   6.812246e-19   4.747461e-18  \n",
       "3   7.643179e-16   1.528837e-18  \n",
       "4   0.000000e+00   1.282472e-15  "
      ]
     },
     "execution_count": 4,
     "metadata": {},
     "output_type": "execute_result"
    }
   ],
   "source": [
    "df_train = pd.read_csv(\"train_graph_features.csv\")\n",
    "df_test = pd.read_csv(\"test_graph_features.csv\")\n",
    "df_train.head()"
   ]
  },
  {
   "cell_type": "code",
   "execution_count": 5,
   "metadata": {},
   "outputs": [],
   "source": [
    "df_train['follows_back'] = df_train.apply(lambda row:\n",
    "                                            follows_back(row['source_node'],row['destination_node']),axis=1)\n",
    "df_test['follows_back'] = df_test.apply(lambda row:\n",
    "                                            follows_back(row['source_node'],row['destination_node']),axis=1)"
   ]
  },
  {
   "cell_type": "code",
   "execution_count": 7,
   "metadata": {},
   "outputs": [],
   "source": [
    "df_train['num_followers_s'], df_train['num_followers_d'], \\\n",
    "df_train['num_followees_s'], df_train['num_followees_d'], \\\n",
    "df_train['inter_followers'], df_train['inter_followees'] = new_features(df_train)\n",
    "    \n",
    "df_test['num_followers_s'], df_test['num_followers_d'], \\\n",
    "df_test['num_followees_s'], df_test['num_followees_d'], \\\n",
    "df_test['inter_followers'], df_test['inter_followees'] = new_features(df_test)"
   ]
  },
  {
   "cell_type": "markdown",
   "metadata": {},
   "source": [
    "## classification models on graph based features and non-graph based features"
   ]
  },
  {
   "cell_type": "code",
   "execution_count": 9,
   "metadata": {},
   "outputs": [],
   "source": [
    "y_train = df_train.indicator_link\n",
    "y_test = df_test.indicator_link"
   ]
  },
  {
   "cell_type": "code",
   "execution_count": 10,
   "metadata": {},
   "outputs": [],
   "source": [
    "df_train.drop(['source_node', 'destination_node','indicator_link'],axis=1,inplace=True)\n",
    "df_test.drop(['source_node', 'destination_node','indicator_link'],axis=1,inplace=True)"
   ]
  },
  {
   "cell_type": "code",
   "execution_count": 11,
   "metadata": {},
   "outputs": [
    {
     "data": {
      "text/plain": [
       "array([[1.],\n",
       "       [1.],\n",
       "       [1.],\n",
       "       ...,\n",
       "       [0.],\n",
       "       [0.],\n",
       "       [0.]])"
      ]
     },
     "execution_count": 11,
     "metadata": {},
     "output_type": "execute_result"
    }
   ],
   "source": [
    "x_train = df_train.values\n",
    "x_test = df_test.values\n",
    "\n",
    "y_train = y_train.values\n",
    "y_test = y_test.values\n",
    "\n",
    "y_train.reshape(-1,1)\n",
    "y_test.reshape(-1,1)"
   ]
  },
  {
   "cell_type": "code",
   "execution_count": 12,
   "metadata": {},
   "outputs": [],
   "source": [
    "from sklearn.metrics import f1_score\n",
    "from sklearn.ensemble import RandomForestClassifier"
   ]
  },
  {
   "cell_type": "code",
   "execution_count": 13,
   "metadata": {},
   "outputs": [
    {
     "name": "stdout",
     "output_type": "stream",
     "text": [
      "Estimators =  10 Train Score 0.9337290641943975 test Score 0.9339731851571215\n",
      "Estimators =  50 Train Score 0.9431310440309622 test Score 0.9426260583849362\n",
      "Estimators =  100 Train Score 0.9413326030629227 test Score 0.941201362588071\n",
      "Estimators =  250 Train Score 0.9420235017132287 test Score 0.9418074324324325\n",
      "Estimators =  500 Train Score 0.9424237652863066 test Score 0.9420518982271969\n",
      "Estimators =  1000 Train Score 0.9424768542816955 test Score 0.9421337774311191\n",
      "Estimators =  2000 Train Score 0.942379787245214 test Score 0.9420595428860588\n"
     ]
    }
   ],
   "source": [
    "estimators = [10, 50, 100, 250, 500, 1000, 2000]\n",
    "train_scores = []\n",
    "test_scores = []\n",
    "for i in estimators:\n",
    "    clf = RandomForestClassifier(bootstrap=True, class_weight=None, criterion='gini',\n",
    "            max_depth=5, max_features='auto', max_leaf_nodes=None,\n",
    "            min_impurity_decrease=0.0, min_impurity_split=None,\n",
    "            min_samples_leaf=52, min_samples_split=120,\n",
    "            min_weight_fraction_leaf=0.0, n_estimators=i, n_jobs=-1,random_state=25,verbose=0,warm_start=False)\n",
    "    clf.fit(x_train,y_train)\n",
    "    train_sc = f1_score(y_train,clf.predict(x_train))\n",
    "    test_sc = f1_score(y_test,clf.predict(x_test))\n",
    "    test_scores.append(test_sc)\n",
    "    train_scores.append(train_sc)\n",
    "    print('Estimators = ',i,'Train Score',train_sc,'test Score',test_sc)"
   ]
  },
  {
   "cell_type": "code",
   "execution_count": 14,
   "metadata": {},
   "outputs": [
    {
     "data": {
      "text/plain": [
       "Text(0.5, 1.0, 'Estimators vs score at depth of 5')"
      ]
     },
     "execution_count": 14,
     "metadata": {},
     "output_type": "execute_result"
    },
    {
     "data": {
      "image/png": "[encoded data removed]",
      "text/plain": [
       "<Figure size 432x288 with 1 Axes>"
      ]
     },
     "metadata": {
      "needs_background": "light"
     },
     "output_type": "display_data"
    }
   ],
   "source": [
    "plt.plot(estimators,train_scores,label='Train Score')\n",
    "plt.plot(estimators,test_scores,label='Test Score')\n",
    "plt.xlabel('Estimators')\n",
    "plt.ylabel('Score')\n",
    "plt.title('Estimators vs score at depth of 5')"
   ]
  },
  {
   "cell_type": "code",
   "execution_count": 15,
   "metadata": {},
   "outputs": [
    {
     "name": "stdout",
     "output_type": "stream",
     "text": [
      "max_depth =  5 Train Score 0.9424237652863066 test Score 0.9420518982271969\n",
      "max_depth =  7 Train Score 0.9457674730619261 test Score 0.9456757382500894\n",
      "max_depth =  9 Train Score 0.9486275207467794 test Score 0.9489189132398983\n",
      "max_depth =  11 Train Score 0.9505111961362354 test Score 0.9508141682054725\n",
      "max_depth =  12 Train Score 0.9519964109466127 test Score 0.952287198391421\n",
      "max_depth =  13 Train Score 0.9523412156171442 test Score 0.95261030720583\n",
      "max_depth =  15 Train Score 0.9519893124034567 test Score 0.9519758622134685\n"
     ]
    }
   ],
   "source": [
    "max_depth = [5, 7, 9, 11, 12, 13, 15]\n",
    "train_scores = []\n",
    "test_scores = []\n",
    "for i in max_depth:\n",
    "    clf = RandomForestClassifier(bootstrap=True, class_weight=None, criterion='gini',\n",
    "            max_depth = i, max_features='auto', max_leaf_nodes=None,\n",
    "            min_impurity_decrease=0.0, min_impurity_split=None,\n",
    "            min_samples_leaf=52, min_samples_split=120,\n",
    "            min_weight_fraction_leaf=0.0, n_estimators = 500, n_jobs=-1,random_state=25,verbose=0,warm_start=False)\n",
    "    clf.fit(x_train,y_train)\n",
    "    train_sc = f1_score(y_train,clf.predict(x_train))\n",
    "    test_sc = f1_score(y_test,clf.predict(x_test))\n",
    "    test_scores.append(test_sc)\n",
    "    train_scores.append(train_sc)\n",
    "    print('max_depth = ',i,'Train Score',train_sc,'test Score',test_sc)"
   ]
  },
  {
   "cell_type": "code",
   "execution_count": 16,
   "metadata": {},
   "outputs": [
    {
     "data": {
      "image/png": "[encoded data removed]",
      "text/plain": [
       "<Figure size 432x288 with 1 Axes>"
      ]
     },
     "metadata": {
      "needs_background": "light"
     },
     "output_type": "display_data"
    }
   ],
   "source": [
    "plt.plot(max_depth,train_scores,label='Train Score')\n",
    "plt.plot(max_depth,test_scores,label='Test Score')\n",
    "plt.xlabel('Depth')\n",
    "plt.ylabel('Score')\n",
    "plt.title('Depth vs score at depth of 5 at estimators = 500')\n",
    "plt.show()"
   ]
  },
  {
   "cell_type": "code",
   "execution_count": 17,
   "metadata": {},
   "outputs": [],
   "source": [
    "from sklearn.model_selection import RandomizedSearchCV"
   ]
  },
  {
   "cell_type": "code",
   "execution_count": 18,
   "metadata": {},
   "outputs": [],
   "source": [
    "grid = {'n_estimators': estimators, 'max_depth': max_depth}"
   ]
  },
  {
   "cell_type": "code",
   "execution_count": 19,
   "metadata": {},
   "outputs": [],
   "source": [
    "clf = RandomForestClassifier(bootstrap=True, class_weight=None, criterion='gini',\n",
    "            max_features='auto', max_leaf_nodes=None,\n",
    "            min_impurity_decrease=0.0, min_impurity_split=None,\n",
    "            min_samples_leaf=52, min_samples_split=120,\n",
    "            min_weight_fraction_leaf=0.0, n_estimators=115, n_jobs=-1,random_state=25,verbose=0,warm_start=False)"
   ]
  },
  {
   "cell_type": "code",
   "execution_count": 20,
   "metadata": {},
   "outputs": [],
   "source": [
    "rf = RandomizedSearchCV(estimator = clf, param_distributions = grid, n_iter = 100, cv = 3, verbose=0, n_jobs = -1)"
   ]
  },
  {
   "cell_type": "code",
   "execution_count": 21,
   "metadata": {},
   "outputs": [
    {
     "data": {
      "text/plain": [
       "RandomizedSearchCV(cv=3, error_score='raise-deprecating',\n",
       "          estimator=RandomForestClassifier(bootstrap=True, class_weight=None, criterion='gini',\n",
       "            max_depth=None, max_features='auto', max_leaf_nodes=None,\n",
       "            min_impurity_decrease=0.0, min_impurity_split=None,\n",
       "            min_samples_leaf=52, min_samples_split=120,\n",
       "            min_weight_fraction_leaf=0.0, n_estimators=115, n_jobs=-1,\n",
       "            oob_score=False, random_state=25, verbose=0, warm_start=False),\n",
       "          fit_params=None, iid='warn', n_iter=100, n_jobs=-1,\n",
       "          param_distributions={'n_estimators': [10, 50, 100, 250, 500, 1000, 2000], 'max_depth': [5, 7, 9, 11, 12, 13, 15]},\n",
       "          pre_dispatch='2*n_jobs', random_state=None, refit=True,\n",
       "          return_train_score='warn', scoring=None, verbose=0)"
      ]
     },
     "execution_count": 21,
     "metadata": {},
     "output_type": "execute_result"
    }
   ],
   "source": [
    "rf.fit(x_train, y_train)"
   ]
  },
  {
   "cell_type": "code",
   "execution_count": 22,
   "metadata": {},
   "outputs": [],
   "source": [
    "train_sc = f1_score(y_train,rf.predict(x_train))\n",
    "test_sc = f1_score(y_test,rf.predict(x_test))"
   ]
  },
  {
   "cell_type": "code",
   "execution_count": 23,
   "metadata": {},
   "outputs": [
    {
     "data": {
      "text/plain": [
       "0.9526241488124896"
      ]
     },
     "execution_count": 23,
     "metadata": {},
     "output_type": "execute_result"
    }
   ],
   "source": [
    "train_sc"
   ]
  },
  {
   "cell_type": "code",
   "execution_count": 24,
   "metadata": {},
   "outputs": [
    {
     "data": {
      "text/plain": [
       "0.9530855963819012"
      ]
     },
     "execution_count": 24,
     "metadata": {},
     "output_type": "execute_result"
    }
   ],
   "source": [
    "test_sc"
   ]
  },
  {
   "cell_type": "code",
   "execution_count": null,
   "metadata": {},
   "outputs": [],
   "source": []
  }
 ],
 "metadata": {
  "kernelspec": {
   "display_name": "Python 3",
   "language": "python",
   "name": "python3"
  },
  "language_info": {
   "codemirror_mode": {
    "name": "ipython",
    "version": 3
   },
   "file_extension": ".py",
   "mimetype": "text/x-python",
   "name": "python",
   "nbconvert_exporter": "python",
   "pygments_lexer": "ipython3",
   "version": "3.6.8"
  }
 },
 "nbformat": 4,
 "nbformat_minor": 2
}
